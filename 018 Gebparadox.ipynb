{
 "cells": [
  {
   "cell_type": "markdown",
   "metadata": {},
   "source": [
    "## Zufällige Generierung von \"Geburtstagen\"\n",
    "\n",
    "k: Anzahl Personen für die zufällig ein Geburtstag \"erzeugt\" wird\n",
    "\n",
    "Die Daten der Geburtstage sind Zahlen zwischen 1 und 365"
   ]
  },
  {
   "cell_type": "code",
   "execution_count": 14,
   "metadata": {},
   "outputs": [
    {
     "name": "stdout",
     "output_type": "stream",
     "text": [
      "[6, 9, 15, 45, 82, 82, 97, 133, 140, 155, 162, 183, 204, 216, 241, 244, 247, 255, 261, 297, 303, 306, 364]\n"
     ]
    }
   ],
   "source": [
    "k = 23\n",
    "\n",
    "listeGeburtstage = []\n",
    "\n",
    "import random\n",
    "for i in range(1,k+1):\n",
    "    listeGeburtstage.append(random.randint(1,365))\n",
    "    \n",
    "listeGeburtstage.sort()\n",
    "    \n",
    "print(listeGeburtstage)"
   ]
  },
  {
   "cell_type": "code",
   "execution_count": null,
   "metadata": {},
   "outputs": [],
   "source": []
  },
  {
   "cell_type": "code",
   "execution_count": null,
   "metadata": {},
   "outputs": [],
   "source": []
  }
 ],
 "metadata": {
  "kernelspec": {
   "display_name": "Python 3",
   "language": "python",
   "name": "python3"
  },
  "language_info": {
   "codemirror_mode": {
    "name": "ipython",
    "version": 3
   },
   "file_extension": ".py",
   "mimetype": "text/x-python",
   "name": "python",
   "nbconvert_exporter": "python",
   "pygments_lexer": "ipython3",
   "version": "3.8.3"
  }
 },
 "nbformat": 4,
 "nbformat_minor": 4
}
